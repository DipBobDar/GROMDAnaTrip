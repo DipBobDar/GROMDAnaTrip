{
  "nbformat": 4,
  "nbformat_minor": 0,
  "metadata": {
    "colab": {
      "provenance": []
    },
    "kernelspec": {
      "name": "python3",
      "display_name": "Python 3"
    },
    "language_info": {
      "name": "python"
    }
  },
  "cells": [
    {
      "cell_type": "code",
      "execution_count": 60,
      "metadata": {
        "id": "sbuJ9_5N8f0O"
      },
      "outputs": [],
      "source": [
        "# Import statements\n",
        "import pandas as pd\n",
        "import glob\n",
        "import matplotlib.pyplot as plt\n",
        "import os"
      ]
    },
    {
      "cell_type": "code",
      "source": [
        "# Setup OS\n",
        "FolderPath = os.path.join(os.getcwd(), 'analysis')\n",
        "# List all files in the 'analysis' folder\n",
        "files_in_data_folder = os.listdir(FolderPath)\n",
        "# Print the list of files\n",
        "print(\"Files in 'analysis' folder:\")\n",
        "for file in files_in_data_folder:\n",
        "    print(file)"
      ],
      "metadata": {
        "colab": {
          "base_uri": "https://localhost:8080/"
        },
        "id": "M7-hTyiiiei5",
        "outputId": "37295035-1d50-49a5-8fc4-5bb57df4d60f"
      },
      "execution_count": 61,
      "outputs": [
        {
          "output_type": "stream",
          "name": "stdout",
          "text": [
            "Files in 'Data' folder:\n",
            "rmsd_proteinI.xvg\n",
            "Rg_runI.xvg\n",
            "rmsf_runII.xvg\n",
            "Rg_runIII.xvg\n",
            "rmsf_runIII.xvg\n",
            "rmsd_proteinIII.xvg\n",
            "Rg_runII.xvg\n",
            "rmsd_proteinII.xvg\n",
            "rmsf_runI.xvg\n"
          ]
        }
      ]
    },
    {
      "cell_type": "code",
      "source": [
        "# Method to create the merged dataframe from a specified data path\n",
        "def mergeDataFrames(Files, MDCategory, Solvent):\n",
        "    # Create the dataframe instance\n",
        "    df_merged = pd.DataFrame()\n",
        "\n",
        "    # Setup the x axis options (Change accordingly for other analysis)\n",
        "    x_axis = ''\n",
        "    if (MDCategory == 'RMSD' or MDCategory == 'Gryate'):\n",
        "        x_axis = 'Time (ns)'\n",
        "    elif (MDCategory == 'RMSF' or MDCategory == 'SASA'):\n",
        "        x_axis = 'Residue'\n",
        "    elif (MDCategory == 'AtomArea' or MDCategory == 'Area'):\n",
        "        x_axis = '????'\n",
        "\n",
        "    # Merge the data from the xvg files into the dataframe\n",
        "    counter = 0\n",
        "    for file in Files:\n",
        "        if (counter == 0):\n",
        "            df = pd.read_csv(file, delim_whitespace = True, usecols = [0, 1], names=[x_axis , MDCategory + ' Run ' + str(counter + 1)])\n",
        "            counter+=1\n",
        "        else:\n",
        "            df = pd.read_csv(file, delim_whitespace=True, usecols=[1], names=[MDCategory + ' Run ' + str(counter + 1)])\n",
        "            counter += 1\n",
        "\n",
        "        if not df_merged.empty:\n",
        "            df_merged = pd.concat([df_merged, df], axis=1)\n",
        "        else:\n",
        "            df_merged = df.copy()\n",
        "\n",
        "    df_merged.fillna('', inplace=True)\n",
        "\n",
        "    # Add a column for the average\n",
        "    if (MDCategory != 'Area'):\n",
        "        df_merged['Average'] = df_merged.iloc[:, 1:3].mean(numeric_only=True, axis=1)\n",
        "\n",
        "    return df_merged"
      ],
      "metadata": {
        "id": "ELFFbvrUQfpa"
      },
      "execution_count": 62,
      "outputs": []
    },
    {
      "cell_type": "code",
      "source": [
        "# Method to change file names\n",
        "def ChangeName (files):\n",
        "    modified_files = []\n",
        "    for file in files:\n",
        "        parts = file.split('_')\n",
        "\n",
        "        for index in range(len(parts)):\n",
        "            if (parts[index] == 'I'):\n",
        "                parts[index] = '1'\n",
        "            elif (parts[index] == 'II'):\n",
        "                parts[index] = '2'\n",
        "            elif (parts[index] == 'III'):\n",
        "                parts[index] = '3'\n",
        "        file = '_'.join(parts)\n",
        "        modified_files.append(str(file))\n",
        "    return modified_files\n",
        "\n",
        "def ChangeNameReverse (files):\n",
        "    modified_files = []\n",
        "    for file in files:\n",
        "        parts = file.split('_')\n",
        "        for index in range(len(parts)):\n",
        "            if (parts[index] == '1'):\n",
        "                parts[index] = 'I'\n",
        "            elif (parts[index] == '2'):\n",
        "                parts[index] = 'II'\n",
        "            elif (parts[index] == '3'):\n",
        "                parts[index] = 'III'\n",
        "        file = '_'.join(parts)\n",
        "        modified_files.append(str(file))\n",
        "    return modified_files\n",
        "\n",
        "# Method to extract data and sort files\n",
        "def Sort (Data):\n",
        "    Data = ChangeName(Data)\n",
        "    Data = sorted(Data)\n",
        "    Data = ChangeNameReverse(Data)\n",
        "    return Data\n"
      ],
      "metadata": {
        "id": "FFUSjukHRuMg"
      },
      "execution_count": 63,
      "outputs": []
    },
    {
      "cell_type": "code",
      "source": [
        "# RMSD Dataframe\n",
        "RMSD_protein = glob.glob(os.path.join(FolderPath, 'rmsd_protein*.*'))\n",
        "#RMSD_protein\n",
        "RMSD_protein = Sort(RMSD_protein)\n",
        "# Print the list of files for verification\n",
        "#print(\"List of RMSD Protein Files:\")\n",
        "#for file_path in RMSD_protein:\n",
        "    #print(file_path)\n",
        "df_RMSD_protein = mergeDataFrames(RMSD_protein, 'rmsd', 'Protein')\n",
        "RMSD_protein"
      ],
      "metadata": {
        "colab": {
          "base_uri": "https://localhost:8080/"
        },
        "id": "ooWsrmRdR-YP",
        "outputId": "719d59b9-fdd6-45dd-dbb2-f181e903f2a3"
      },
      "execution_count": 64,
      "outputs": [
        {
          "output_type": "execute_result",
          "data": {
            "text/plain": [
              "['/content/Data/rmsd_proteinI.xvg',\n",
              " '/content/Data/rmsd_proteinII.xvg',\n",
              " '/content/Data/rmsd_proteinIII.xvg']"
            ]
          },
          "metadata": {},
          "execution_count": 64
        }
      ]
    },
    {
      "cell_type": "code",
      "source": [
        "# Plotting RMSD\n",
        "fig = plt.figure(figsize=(16, 8))\n",
        "\n",
        "# Check if the DataFrame has at least 5 columns (including the 'Average' column)\n",
        "if len(df_RMSD_protein.columns) >= 5:\n",
        "    plt.plot(df_RMSD_protein.iloc[:, 0], df_RMSD_protein.iloc[:, -1], label=\"Average\")\n",
        "\n",
        "    # Plot individual runs\n",
        "    for i in range(3):\n",
        "        plt.plot(df_RMSD_protein.iloc[:, 0], df_RMSD_protein.iloc[:, i + 1], linestyle='--', label=f\"Run {i + 1}\")\n",
        "\n",
        "    plt.legend()\n",
        "    plt.xlabel(df_RMSD_protein.columns[0])\n",
        "    plt.ylabel('RMSD (nm)')\n",
        "    plt.title('RMSD Run')\n",
        "    fig.savefig('Backbone RMSD', dpi=300, bbox_inches='tight', pad_inches=0.1)\n",
        "    plt.close()\n",
        "else:\n",
        "    print(\"Insufficient columns in DataFrame for plotting RMSD.\")\n"
      ],
      "metadata": {
        "id": "Ivk4uKkTegQf"
      },
      "execution_count": 65,
      "outputs": []
    },
    {
      "cell_type": "code",
      "source": [
        "# Plotting RMSD\n",
        "fig = plt.figure(figsize=(16, 8))\n",
        "plt.plot(df_RMSD_protein.iloc[:, 0], df_RMSD_protein.iloc[:, 4], label=\"Average\")\n",
        "for i in range(3):\n",
        "    plt.plot(df_RMSD_protein.iloc[:, 0], df_RMSD_protein.iloc[:, i + 1], linestyle='--', label=f\"Run {i + 1}\")\n",
        "plt.legend()\n",
        "plt.xlabel(df_RMSD_protein.columns[0])\n",
        "plt.ylabel('RMSD (nm)')\n",
        "plt.title('RMSD Run')\n",
        "fig.savefig('Backbone RMSD', dpi=300, bbox_inches='tight', pad_inches=0.1)\n",
        "plt.close()"
      ],
      "metadata": {
        "id": "-cOPONsXeb1g"
      },
      "execution_count": 66,
      "outputs": []
    },
    {
      "cell_type": "code",
      "source": [
        "#Likewise you can work with other analyses in similar fashion...Here are the most common general analyzes RMSF and Radius of Gyration\n",
        "\n",
        "# Gyrate Dataframe\n",
        "Gyrate_protein = glob.glob(os.path.join(FolderPath, 'Rg_run*.*'))\n",
        "Gyrate_protein = Sort(Gyrate_protein)\n",
        "df_Gyrate_protein = mergeDataFrames(Gyrate_protein, 'Gyrate', 'Protein')\n",
        "\n",
        "# Plotting Gyrate\n",
        "fig = plt.figure(figsize=(16, 8))\n",
        "plt.plot(df_Gyrate_protein.iloc[:, 0], df_Gyrate_protein.iloc[:, 4], label=\"Average\")\n",
        "for i in range(3):\n",
        "    plt.plot(df_Gyrate_protein.iloc[:, 0], df_Gyrate_protein.iloc[:, i + 1], linestyle='--', label=f\"Run {i + 1}\")\n",
        "plt.legend()\n",
        "plt.xlabel(df_Gyrate_protein.columns[0])\n",
        "plt.ylabel('Radius of Gyrate (nm)')\n",
        "plt.title('Radius of Gyrate Run')\n",
        "fig.savefig('Gyrate', dpi=300, bbox_inches='tight', pad_inches=0.1)\n",
        "plt.close()\n",
        "\n",
        "# RMSF Backbone Dataframe (Commented Out)\n",
        "RMSF_protein = glob.glob(os.path.join(FolderPath, 'rmsf_run*.xvg'))\n",
        "RMSF_protein = Sort(RMSF_protein)\n",
        "df_RMSF_protein = mergeDataFrames(RMSF_protein, 'RMSF', 'Protein')\n",
        "\n",
        "# Plotting RMSF\n",
        "fig = plt.figure(figsize=(16, 8))\n",
        "plt.plot(df_RMSF_protein.iloc[:, 0], df_RMSF_protein.iloc[:, 4], label=\"Average\")\n",
        "for i in range(3):\n",
        "    plt.plot(df_RMSF_protein.iloc[:, 0], df_RMSF_protein.iloc[:, i + 1], linestyle='--', label=f\"Run {i + 1}\")\n",
        "plt.legend()\n",
        "plt.xlabel(df_RMSF_protein.columns[0])\n",
        "plt.ylabel('RMSF (nm)')\n",
        "plt.title('RMSF Run')\n",
        "fig.savefig('Backbone RMSD', dpi=300, bbox_inches='tight', pad_inches=0.1)\n",
        "plt.close()\n",
        "\n",
        "# Export to Excel\n",
        "writeToExcel = pd.ExcelWriter('Data_protein.xlsx')\n",
        "\n",
        "df_RMSD_protein.to_excel(writeToExcel, sheet_name='RMSD', index=False)\n",
        "df_Gyrate_protein.to_excel(writeToExcel, sheet_name='Gyrate', index=False)\n",
        "df_RMSF_protein.to_excel(writeToExcel, sheet_name='RMSF', index=False)\n",
        "\n",
        "# Save the Excel file\n",
        "writeToExcel.save()"
      ],
      "metadata": {
        "colab": {
          "base_uri": "https://localhost:8080/"
        },
        "id": "7LvGJkGydC-Y",
        "outputId": "c19ee8aa-652c-4c1d-fdca-8dd55285a62e"
      },
      "execution_count": 67,
      "outputs": [
        {
          "output_type": "stream",
          "name": "stderr",
          "text": [
            "<ipython-input-67-0c14c723d1d9>:43: FutureWarning: save is not part of the public API, usage can give unexpected results and will be removed in a future version\n",
            "  writeToExcel.save()\n"
          ]
        }
      ]
    }
  ]
}